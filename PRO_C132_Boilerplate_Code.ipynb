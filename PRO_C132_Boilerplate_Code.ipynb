{
  "nbformat": 4,
  "nbformat_minor": 0,
  "metadata": {
    "colab": {
      "provenance": [],
      "include_colab_link": true
    },
    "kernelspec": {
      "name": "python3",
      "display_name": "Python 3"
    },
    "language_info": {
      "name": "python"
    }
  },
  "cells": [
    {
      "cell_type": "markdown",
      "metadata": {
        "id": "view-in-github",
        "colab_type": "text"
      },
      "source": [
        "<a href=\"https://colab.research.google.com/github/CherryCODER2021/Cut-Your-Fruits/blob/main/PRO_C132_Boilerplate_Code.ipynb\" target=\"_parent\"><img src=\"https://colab.research.google.com/assets/colab-badge.svg\" alt=\"Open In Colab\"/></a>"
      ]
    },
    {
      "cell_type": "markdown",
      "source": [
        "## Load the Dataset"
      ],
      "metadata": {
        "id": "3CSw96A6rWsy"
      }
    },
    {
      "cell_type": "code",
      "execution_count": 19,
      "metadata": {
        "id": "uLZ7Kjl-9lQj",
        "colab": {
          "base_uri": "https://localhost:8080/"
        },
        "outputId": "a60d8660-b5ba-4828-816e-21bd9c225e6f"
      },
      "outputs": [
        {
          "output_type": "stream",
          "name": "stdout",
          "text": [
            "fatal: destination path 'PRO-C114-Text-Sentiment-Dataset' already exists and is not an empty directory.\n"
          ]
        }
      ],
      "source": [
        "#Load the dataset from given directory\n",
        "!git clone https://github.com/procodingclass/PRO-C114-Text-Sentiment-Dataset"
      ]
    },
    {
      "cell_type": "markdown",
      "source": [
        "## Pandas:\n",
        "**Pandas** is an open-source library built on top of Numpy and Matplotlib. It provides high-performance, easy-to-use data structures and data analysis tools.\n",
        "\n",
        "A DataFrame is a two-dimensional data structure, i.e., data is aligned in a tabular fashion in rows and columns. Pandas DataFrame consists of three principal components, the data, rows, and columns.\n",
        "\n",
        "Pandas DataFrame will be created by loading the datasets from existing MS Excel files, CSV files or SQL Database. Pandas DataFrame can also be created from the lists, dictionaries etc.\n"
      ],
      "metadata": {
        "id": "bCJiSzc3rbbi"
      }
    },
    {
      "cell_type": "markdown",
      "source": [
        "## Use Pandas to display the dataset\n"
      ],
      "metadata": {
        "id": "PbYetMMENj-y"
      }
    },
    {
      "cell_type": "code",
      "source": [
        "import pandas as pd\n",
        "\n",
        "#read excel file\n",
        "train_data_raw = pd.read_excel(\"/content/PRO-C114-Text-Sentiment-Dataset/text-emotion-training-dataset.xlsx\")\n",
        "\n",
        "#display first five entries of training dataset\n",
        "train_data_raw.head()"
      ],
      "metadata": {
        "colab": {
          "base_uri": "https://localhost:8080/",
          "height": 206
        },
        "id": "DNlWSc7NG1Dl",
        "outputId": "aa15e424-d285-4e32-9840-8f3438a442dd"
      },
      "execution_count": 20,
      "outputs": [
        {
          "output_type": "execute_result",
          "data": {
            "text/plain": [
              "                                        Text_Emotion\n",
              "0                    i didnt feel humiliated;sadness\n",
              "1  i can go from feeling so hopeless to so damned...\n",
              "2  im grabbing a minute to post i feel greedy wro...\n",
              "3  i am ever feeling nostalgic about the fireplac...\n",
              "4                         i am feeling grouchy;anger"
            ],
            "text/html": [
              "\n",
              "  <div id=\"df-9f0dadc3-f487-4d22-a26d-44f0b0ccd6b4\">\n",
              "    <div class=\"colab-df-container\">\n",
              "      <div>\n",
              "<style scoped>\n",
              "    .dataframe tbody tr th:only-of-type {\n",
              "        vertical-align: middle;\n",
              "    }\n",
              "\n",
              "    .dataframe tbody tr th {\n",
              "        vertical-align: top;\n",
              "    }\n",
              "\n",
              "    .dataframe thead th {\n",
              "        text-align: right;\n",
              "    }\n",
              "</style>\n",
              "<table border=\"1\" class=\"dataframe\">\n",
              "  <thead>\n",
              "    <tr style=\"text-align: right;\">\n",
              "      <th></th>\n",
              "      <th>Text_Emotion</th>\n",
              "    </tr>\n",
              "  </thead>\n",
              "  <tbody>\n",
              "    <tr>\n",
              "      <th>0</th>\n",
              "      <td>i didnt feel humiliated;sadness</td>\n",
              "    </tr>\n",
              "    <tr>\n",
              "      <th>1</th>\n",
              "      <td>i can go from feeling so hopeless to so damned...</td>\n",
              "    </tr>\n",
              "    <tr>\n",
              "      <th>2</th>\n",
              "      <td>im grabbing a minute to post i feel greedy wro...</td>\n",
              "    </tr>\n",
              "    <tr>\n",
              "      <th>3</th>\n",
              "      <td>i am ever feeling nostalgic about the fireplac...</td>\n",
              "    </tr>\n",
              "    <tr>\n",
              "      <th>4</th>\n",
              "      <td>i am feeling grouchy;anger</td>\n",
              "    </tr>\n",
              "  </tbody>\n",
              "</table>\n",
              "</div>\n",
              "      <button class=\"colab-df-convert\" onclick=\"convertToInteractive('df-9f0dadc3-f487-4d22-a26d-44f0b0ccd6b4')\"\n",
              "              title=\"Convert this dataframe to an interactive table.\"\n",
              "              style=\"display:none;\">\n",
              "        \n",
              "  <svg xmlns=\"http://www.w3.org/2000/svg\" height=\"24px\"viewBox=\"0 0 24 24\"\n",
              "       width=\"24px\">\n",
              "    <path d=\"M0 0h24v24H0V0z\" fill=\"none\"/>\n",
              "    <path d=\"M18.56 5.44l.94 2.06.94-2.06 2.06-.94-2.06-.94-.94-2.06-.94 2.06-2.06.94zm-11 1L8.5 8.5l.94-2.06 2.06-.94-2.06-.94L8.5 2.5l-.94 2.06-2.06.94zm10 10l.94 2.06.94-2.06 2.06-.94-2.06-.94-.94-2.06-.94 2.06-2.06.94z\"/><path d=\"M17.41 7.96l-1.37-1.37c-.4-.4-.92-.59-1.43-.59-.52 0-1.04.2-1.43.59L10.3 9.45l-7.72 7.72c-.78.78-.78 2.05 0 2.83L4 21.41c.39.39.9.59 1.41.59.51 0 1.02-.2 1.41-.59l7.78-7.78 2.81-2.81c.8-.78.8-2.07 0-2.86zM5.41 20L4 18.59l7.72-7.72 1.47 1.35L5.41 20z\"/>\n",
              "  </svg>\n",
              "      </button>\n",
              "      \n",
              "  <style>\n",
              "    .colab-df-container {\n",
              "      display:flex;\n",
              "      flex-wrap:wrap;\n",
              "      gap: 12px;\n",
              "    }\n",
              "\n",
              "    .colab-df-convert {\n",
              "      background-color: #E8F0FE;\n",
              "      border: none;\n",
              "      border-radius: 50%;\n",
              "      cursor: pointer;\n",
              "      display: none;\n",
              "      fill: #1967D2;\n",
              "      height: 32px;\n",
              "      padding: 0 0 0 0;\n",
              "      width: 32px;\n",
              "    }\n",
              "\n",
              "    .colab-df-convert:hover {\n",
              "      background-color: #E2EBFA;\n",
              "      box-shadow: 0px 1px 2px rgba(60, 64, 67, 0.3), 0px 1px 3px 1px rgba(60, 64, 67, 0.15);\n",
              "      fill: #174EA6;\n",
              "    }\n",
              "\n",
              "    [theme=dark] .colab-df-convert {\n",
              "      background-color: #3B4455;\n",
              "      fill: #D2E3FC;\n",
              "    }\n",
              "\n",
              "    [theme=dark] .colab-df-convert:hover {\n",
              "      background-color: #434B5C;\n",
              "      box-shadow: 0px 1px 3px 1px rgba(0, 0, 0, 0.15);\n",
              "      filter: drop-shadow(0px 1px 2px rgba(0, 0, 0, 0.3));\n",
              "      fill: #FFFFFF;\n",
              "    }\n",
              "  </style>\n",
              "\n",
              "      <script>\n",
              "        const buttonEl =\n",
              "          document.querySelector('#df-9f0dadc3-f487-4d22-a26d-44f0b0ccd6b4 button.colab-df-convert');\n",
              "        buttonEl.style.display =\n",
              "          google.colab.kernel.accessAllowed ? 'block' : 'none';\n",
              "\n",
              "        async function convertToInteractive(key) {\n",
              "          const element = document.querySelector('#df-9f0dadc3-f487-4d22-a26d-44f0b0ccd6b4');\n",
              "          const dataTable =\n",
              "            await google.colab.kernel.invokeFunction('convertToInteractive',\n",
              "                                                     [key], {});\n",
              "          if (!dataTable) return;\n",
              "\n",
              "          const docLinkHtml = 'Like what you see? Visit the ' +\n",
              "            '<a target=\"_blank\" href=https://colab.research.google.com/notebooks/data_table.ipynb>data table notebook</a>'\n",
              "            + ' to learn more about interactive tables.';\n",
              "          element.innerHTML = '';\n",
              "          dataTable['output_type'] = 'display_data';\n",
              "          await google.colab.output.renderOutput(dataTable, element);\n",
              "          const docLink = document.createElement('div');\n",
              "          docLink.innerHTML = docLinkHtml;\n",
              "          element.appendChild(docLink);\n",
              "        }\n",
              "      </script>\n",
              "    </div>\n",
              "  </div>\n",
              "  "
            ]
          },
          "metadata": {},
          "execution_count": 20
        }
      ]
    },
    {
      "cell_type": "markdown",
      "source": [
        "## Split the rows in two columns as Text and Emotions"
      ],
      "metadata": {
        "id": "bCMR_LveMJz_"
      }
    },
    {
      "cell_type": "code",
      "source": [
        "#Split the rows in two columns as Text and Emotions\n",
        "train_data = pd.DataFrame(train_data_raw[\"Text_Emotion\"].str.split(\";\",1).tolist(), \n",
        "                                                     columns = ['Text','Emotion'])"
      ],
      "metadata": {
        "id": "vWz0K50JHBoN"
      },
      "execution_count": 21,
      "outputs": []
    },
    {
      "cell_type": "code",
      "source": [
        "train_data.head()"
      ],
      "metadata": {
        "colab": {
          "base_uri": "https://localhost:8080/",
          "height": 206
        },
        "id": "JJLFscLAHI3J",
        "outputId": "5ca0a271-516b-440b-87a1-7216c0be15e2"
      },
      "execution_count": 22,
      "outputs": [
        {
          "output_type": "execute_result",
          "data": {
            "text/plain": [
              "                                                Text  Emotion\n",
              "0                            i didnt feel humiliated  sadness\n",
              "1  i can go from feeling so hopeless to so damned...  sadness\n",
              "2   im grabbing a minute to post i feel greedy wrong    anger\n",
              "3  i am ever feeling nostalgic about the fireplac...     love\n",
              "4                               i am feeling grouchy    anger"
            ],
            "text/html": [
              "\n",
              "  <div id=\"df-5d9113e7-f75f-45a7-94a0-276ce710d6c9\">\n",
              "    <div class=\"colab-df-container\">\n",
              "      <div>\n",
              "<style scoped>\n",
              "    .dataframe tbody tr th:only-of-type {\n",
              "        vertical-align: middle;\n",
              "    }\n",
              "\n",
              "    .dataframe tbody tr th {\n",
              "        vertical-align: top;\n",
              "    }\n",
              "\n",
              "    .dataframe thead th {\n",
              "        text-align: right;\n",
              "    }\n",
              "</style>\n",
              "<table border=\"1\" class=\"dataframe\">\n",
              "  <thead>\n",
              "    <tr style=\"text-align: right;\">\n",
              "      <th></th>\n",
              "      <th>Text</th>\n",
              "      <th>Emotion</th>\n",
              "    </tr>\n",
              "  </thead>\n",
              "  <tbody>\n",
              "    <tr>\n",
              "      <th>0</th>\n",
              "      <td>i didnt feel humiliated</td>\n",
              "      <td>sadness</td>\n",
              "    </tr>\n",
              "    <tr>\n",
              "      <th>1</th>\n",
              "      <td>i can go from feeling so hopeless to so damned...</td>\n",
              "      <td>sadness</td>\n",
              "    </tr>\n",
              "    <tr>\n",
              "      <th>2</th>\n",
              "      <td>im grabbing a minute to post i feel greedy wrong</td>\n",
              "      <td>anger</td>\n",
              "    </tr>\n",
              "    <tr>\n",
              "      <th>3</th>\n",
              "      <td>i am ever feeling nostalgic about the fireplac...</td>\n",
              "      <td>love</td>\n",
              "    </tr>\n",
              "    <tr>\n",
              "      <th>4</th>\n",
              "      <td>i am feeling grouchy</td>\n",
              "      <td>anger</td>\n",
              "    </tr>\n",
              "  </tbody>\n",
              "</table>\n",
              "</div>\n",
              "      <button class=\"colab-df-convert\" onclick=\"convertToInteractive('df-5d9113e7-f75f-45a7-94a0-276ce710d6c9')\"\n",
              "              title=\"Convert this dataframe to an interactive table.\"\n",
              "              style=\"display:none;\">\n",
              "        \n",
              "  <svg xmlns=\"http://www.w3.org/2000/svg\" height=\"24px\"viewBox=\"0 0 24 24\"\n",
              "       width=\"24px\">\n",
              "    <path d=\"M0 0h24v24H0V0z\" fill=\"none\"/>\n",
              "    <path d=\"M18.56 5.44l.94 2.06.94-2.06 2.06-.94-2.06-.94-.94-2.06-.94 2.06-2.06.94zm-11 1L8.5 8.5l.94-2.06 2.06-.94-2.06-.94L8.5 2.5l-.94 2.06-2.06.94zm10 10l.94 2.06.94-2.06 2.06-.94-2.06-.94-.94-2.06-.94 2.06-2.06.94z\"/><path d=\"M17.41 7.96l-1.37-1.37c-.4-.4-.92-.59-1.43-.59-.52 0-1.04.2-1.43.59L10.3 9.45l-7.72 7.72c-.78.78-.78 2.05 0 2.83L4 21.41c.39.39.9.59 1.41.59.51 0 1.02-.2 1.41-.59l7.78-7.78 2.81-2.81c.8-.78.8-2.07 0-2.86zM5.41 20L4 18.59l7.72-7.72 1.47 1.35L5.41 20z\"/>\n",
              "  </svg>\n",
              "      </button>\n",
              "      \n",
              "  <style>\n",
              "    .colab-df-container {\n",
              "      display:flex;\n",
              "      flex-wrap:wrap;\n",
              "      gap: 12px;\n",
              "    }\n",
              "\n",
              "    .colab-df-convert {\n",
              "      background-color: #E8F0FE;\n",
              "      border: none;\n",
              "      border-radius: 50%;\n",
              "      cursor: pointer;\n",
              "      display: none;\n",
              "      fill: #1967D2;\n",
              "      height: 32px;\n",
              "      padding: 0 0 0 0;\n",
              "      width: 32px;\n",
              "    }\n",
              "\n",
              "    .colab-df-convert:hover {\n",
              "      background-color: #E2EBFA;\n",
              "      box-shadow: 0px 1px 2px rgba(60, 64, 67, 0.3), 0px 1px 3px 1px rgba(60, 64, 67, 0.15);\n",
              "      fill: #174EA6;\n",
              "    }\n",
              "\n",
              "    [theme=dark] .colab-df-convert {\n",
              "      background-color: #3B4455;\n",
              "      fill: #D2E3FC;\n",
              "    }\n",
              "\n",
              "    [theme=dark] .colab-df-convert:hover {\n",
              "      background-color: #434B5C;\n",
              "      box-shadow: 0px 1px 3px 1px rgba(0, 0, 0, 0.15);\n",
              "      filter: drop-shadow(0px 1px 2px rgba(0, 0, 0, 0.3));\n",
              "      fill: #FFFFFF;\n",
              "    }\n",
              "  </style>\n",
              "\n",
              "      <script>\n",
              "        const buttonEl =\n",
              "          document.querySelector('#df-5d9113e7-f75f-45a7-94a0-276ce710d6c9 button.colab-df-convert');\n",
              "        buttonEl.style.display =\n",
              "          google.colab.kernel.accessAllowed ? 'block' : 'none';\n",
              "\n",
              "        async function convertToInteractive(key) {\n",
              "          const element = document.querySelector('#df-5d9113e7-f75f-45a7-94a0-276ce710d6c9');\n",
              "          const dataTable =\n",
              "            await google.colab.kernel.invokeFunction('convertToInteractive',\n",
              "                                                     [key], {});\n",
              "          if (!dataTable) return;\n",
              "\n",
              "          const docLinkHtml = 'Like what you see? Visit the ' +\n",
              "            '<a target=\"_blank\" href=https://colab.research.google.com/notebooks/data_table.ipynb>data table notebook</a>'\n",
              "            + ' to learn more about interactive tables.';\n",
              "          element.innerHTML = '';\n",
              "          dataTable['output_type'] = 'display_data';\n",
              "          await google.colab.output.renderOutput(dataTable, element);\n",
              "          const docLink = document.createElement('div');\n",
              "          docLink.innerHTML = docLinkHtml;\n",
              "          element.appendChild(docLink);\n",
              "        }\n",
              "      </script>\n",
              "    </div>\n",
              "  </div>\n",
              "  "
            ]
          },
          "metadata": {},
          "execution_count": 22
        }
      ]
    },
    {
      "cell_type": "markdown",
      "source": [
        "## Giving labels to Emotions"
      ],
      "metadata": {
        "id": "Be49pxjjLTk9"
      }
    },
    {
      "cell_type": "code",
      "source": [
        "#Find unique emotions\n",
        "train_data[\"Emotion\"].unique()"
      ],
      "metadata": {
        "colab": {
          "base_uri": "https://localhost:8080/"
        },
        "id": "_SNv_pW-HMXp",
        "outputId": "ce553213-7dc7-4c3d-f768-2fb3741383f9"
      },
      "execution_count": 23,
      "outputs": [
        {
          "output_type": "execute_result",
          "data": {
            "text/plain": [
              "array(['sadness', 'anger', 'love', 'surprise', 'fear', 'joy'],\n",
              "      dtype=object)"
            ]
          },
          "metadata": {},
          "execution_count": 23
        }
      ]
    },
    {
      "cell_type": "code",
      "source": [
        "#Create a Dictionary to replace emotions with labels\n",
        "encode_emotions = {\"anger\": 0, \"fear\": 1, \"joy\": 2, \"love\": 3, \"sadness\": 4, \"surprise\": 5}"
      ],
      "metadata": {
        "id": "O6rl4wkbHaqi"
      },
      "execution_count": 24,
      "outputs": []
    },
    {
      "cell_type": "code",
      "source": [
        "train_data.replace(encode_emotions, inplace = True)\n",
        "train_data.head()"
      ],
      "metadata": {
        "colab": {
          "base_uri": "https://localhost:8080/",
          "height": 206
        },
        "id": "jN_PlSdBH5iT",
        "outputId": "ad7385d3-db03-4b19-df26-8fd12bea01dc"
      },
      "execution_count": 25,
      "outputs": [
        {
          "output_type": "execute_result",
          "data": {
            "text/plain": [
              "                                                Text  Emotion\n",
              "0                            i didnt feel humiliated        4\n",
              "1  i can go from feeling so hopeless to so damned...        4\n",
              "2   im grabbing a minute to post i feel greedy wrong        0\n",
              "3  i am ever feeling nostalgic about the fireplac...        3\n",
              "4                               i am feeling grouchy        0"
            ],
            "text/html": [
              "\n",
              "  <div id=\"df-a4ec1c45-5fc6-463c-9454-13901860e9a7\">\n",
              "    <div class=\"colab-df-container\">\n",
              "      <div>\n",
              "<style scoped>\n",
              "    .dataframe tbody tr th:only-of-type {\n",
              "        vertical-align: middle;\n",
              "    }\n",
              "\n",
              "    .dataframe tbody tr th {\n",
              "        vertical-align: top;\n",
              "    }\n",
              "\n",
              "    .dataframe thead th {\n",
              "        text-align: right;\n",
              "    }\n",
              "</style>\n",
              "<table border=\"1\" class=\"dataframe\">\n",
              "  <thead>\n",
              "    <tr style=\"text-align: right;\">\n",
              "      <th></th>\n",
              "      <th>Text</th>\n",
              "      <th>Emotion</th>\n",
              "    </tr>\n",
              "  </thead>\n",
              "  <tbody>\n",
              "    <tr>\n",
              "      <th>0</th>\n",
              "      <td>i didnt feel humiliated</td>\n",
              "      <td>4</td>\n",
              "    </tr>\n",
              "    <tr>\n",
              "      <th>1</th>\n",
              "      <td>i can go from feeling so hopeless to so damned...</td>\n",
              "      <td>4</td>\n",
              "    </tr>\n",
              "    <tr>\n",
              "      <th>2</th>\n",
              "      <td>im grabbing a minute to post i feel greedy wrong</td>\n",
              "      <td>0</td>\n",
              "    </tr>\n",
              "    <tr>\n",
              "      <th>3</th>\n",
              "      <td>i am ever feeling nostalgic about the fireplac...</td>\n",
              "      <td>3</td>\n",
              "    </tr>\n",
              "    <tr>\n",
              "      <th>4</th>\n",
              "      <td>i am feeling grouchy</td>\n",
              "      <td>0</td>\n",
              "    </tr>\n",
              "  </tbody>\n",
              "</table>\n",
              "</div>\n",
              "      <button class=\"colab-df-convert\" onclick=\"convertToInteractive('df-a4ec1c45-5fc6-463c-9454-13901860e9a7')\"\n",
              "              title=\"Convert this dataframe to an interactive table.\"\n",
              "              style=\"display:none;\">\n",
              "        \n",
              "  <svg xmlns=\"http://www.w3.org/2000/svg\" height=\"24px\"viewBox=\"0 0 24 24\"\n",
              "       width=\"24px\">\n",
              "    <path d=\"M0 0h24v24H0V0z\" fill=\"none\"/>\n",
              "    <path d=\"M18.56 5.44l.94 2.06.94-2.06 2.06-.94-2.06-.94-.94-2.06-.94 2.06-2.06.94zm-11 1L8.5 8.5l.94-2.06 2.06-.94-2.06-.94L8.5 2.5l-.94 2.06-2.06.94zm10 10l.94 2.06.94-2.06 2.06-.94-2.06-.94-.94-2.06-.94 2.06-2.06.94z\"/><path d=\"M17.41 7.96l-1.37-1.37c-.4-.4-.92-.59-1.43-.59-.52 0-1.04.2-1.43.59L10.3 9.45l-7.72 7.72c-.78.78-.78 2.05 0 2.83L4 21.41c.39.39.9.59 1.41.59.51 0 1.02-.2 1.41-.59l7.78-7.78 2.81-2.81c.8-.78.8-2.07 0-2.86zM5.41 20L4 18.59l7.72-7.72 1.47 1.35L5.41 20z\"/>\n",
              "  </svg>\n",
              "      </button>\n",
              "      \n",
              "  <style>\n",
              "    .colab-df-container {\n",
              "      display:flex;\n",
              "      flex-wrap:wrap;\n",
              "      gap: 12px;\n",
              "    }\n",
              "\n",
              "    .colab-df-convert {\n",
              "      background-color: #E8F0FE;\n",
              "      border: none;\n",
              "      border-radius: 50%;\n",
              "      cursor: pointer;\n",
              "      display: none;\n",
              "      fill: #1967D2;\n",
              "      height: 32px;\n",
              "      padding: 0 0 0 0;\n",
              "      width: 32px;\n",
              "    }\n",
              "\n",
              "    .colab-df-convert:hover {\n",
              "      background-color: #E2EBFA;\n",
              "      box-shadow: 0px 1px 2px rgba(60, 64, 67, 0.3), 0px 1px 3px 1px rgba(60, 64, 67, 0.15);\n",
              "      fill: #174EA6;\n",
              "    }\n",
              "\n",
              "    [theme=dark] .colab-df-convert {\n",
              "      background-color: #3B4455;\n",
              "      fill: #D2E3FC;\n",
              "    }\n",
              "\n",
              "    [theme=dark] .colab-df-convert:hover {\n",
              "      background-color: #434B5C;\n",
              "      box-shadow: 0px 1px 3px 1px rgba(0, 0, 0, 0.15);\n",
              "      filter: drop-shadow(0px 1px 2px rgba(0, 0, 0, 0.3));\n",
              "      fill: #FFFFFF;\n",
              "    }\n",
              "  </style>\n",
              "\n",
              "      <script>\n",
              "        const buttonEl =\n",
              "          document.querySelector('#df-a4ec1c45-5fc6-463c-9454-13901860e9a7 button.colab-df-convert');\n",
              "        buttonEl.style.display =\n",
              "          google.colab.kernel.accessAllowed ? 'block' : 'none';\n",
              "\n",
              "        async function convertToInteractive(key) {\n",
              "          const element = document.querySelector('#df-a4ec1c45-5fc6-463c-9454-13901860e9a7');\n",
              "          const dataTable =\n",
              "            await google.colab.kernel.invokeFunction('convertToInteractive',\n",
              "                                                     [key], {});\n",
              "          if (!dataTable) return;\n",
              "\n",
              "          const docLinkHtml = 'Like what you see? Visit the ' +\n",
              "            '<a target=\"_blank\" href=https://colab.research.google.com/notebooks/data_table.ipynb>data table notebook</a>'\n",
              "            + ' to learn more about interactive tables.';\n",
              "          element.innerHTML = '';\n",
              "          dataTable['output_type'] = 'display_data';\n",
              "          await google.colab.output.renderOutput(dataTable, element);\n",
              "          const docLink = document.createElement('div');\n",
              "          docLink.innerHTML = docLinkHtml;\n",
              "          element.appendChild(docLink);\n",
              "        }\n",
              "      </script>\n",
              "    </div>\n",
              "  </div>\n",
              "  "
            ]
          },
          "metadata": {},
          "execution_count": 25
        }
      ]
    },
    {
      "cell_type": "markdown",
      "source": [
        "## Convert Dataframe to list of dataset"
      ],
      "metadata": {
        "id": "jYFaTmaqLgif"
      }
    },
    {
      "cell_type": "code",
      "source": [
        "# Convert Dataframe to list of dataset\n",
        "\n",
        "training_sentences = []\n",
        "training_labels = []\n",
        "\n",
        "# append text and emotions in the list using the 'loc' method\n",
        "\n",
        "for i in range(len(train_data)):\n",
        "  \n",
        "  sentence = train_data.loc[i, \"Text\"]\n",
        "  training_sentences.append(sentence)\n",
        "\n",
        "  label = train_data.loc[i, \"Emotion\"]\n",
        "  training_labels.append(label)"
      ],
      "metadata": {
        "id": "-Wrei71xICG0"
      },
      "execution_count": 26,
      "outputs": []
    },
    {
      "cell_type": "code",
      "source": [
        "#Check a random text and label of the list\n",
        "\n",
        "training_sentences[50], training_labels[50]"
      ],
      "metadata": {
        "colab": {
          "base_uri": "https://localhost:8080/"
        },
        "id": "G_dXVO41L2nx",
        "outputId": "2a5659b7-0405-4b07-f068-162e019d8459"
      },
      "execution_count": 27,
      "outputs": [
        {
          "output_type": "execute_result",
          "data": {
            "text/plain": [
              "('i need to feel the dough to make sure its just perfect', 2)"
            ]
          },
          "metadata": {},
          "execution_count": 27
        }
      ]
    },
    {
      "cell_type": "markdown",
      "source": [
        "## Tokenization & Padding\n",
        "\n",
        "The act of converting text into numbers is known as **Tokenization**. The **Tokenizer** class of Keras is used for encoding text input into integer sequence. "
      ],
      "metadata": {
        "id": "gJWzUQ1bMZfD"
      }
    },
    {
      "cell_type": "code",
      "source": [
        "#import Tokenizer from tensorflow\n",
        "\n",
        "import tensorflow as tf\n",
        "\n",
        "from tensorflow.keras.preprocessing.text import Tokenizer\n",
        "\n",
        "#Define parameters for Tokenizer\n",
        "\n",
        "vocab_size = 10000\n",
        "embedding_dim = 16\n",
        "oov_tok = \"<OOV>\"\n",
        "training_size = 20000\n",
        "\n",
        "tokenizer = Tokenizer(num_words=vocab_size, oov_token=oov_tok)\n",
        "tokenizer.fit_on_texts(training_sentences)\n",
        "\n",
        "#Create a word_index dictionary\n",
        "\n",
        "word_index = tokenizer.word_index\n",
        "\n",
        "#Check numeral value assigned to a word\n",
        "\n",
        "word_index[\"the\"]"
      ],
      "metadata": {
        "id": "1tQMEBbEMSus",
        "colab": {
          "base_uri": "https://localhost:8080/"
        },
        "outputId": "cd9284aa-96c8-4cd7-84dc-366116876e5d"
      },
      "execution_count": 28,
      "outputs": [
        {
          "output_type": "execute_result",
          "data": {
            "text/plain": [
              "6"
            ]
          },
          "metadata": {},
          "execution_count": 28
        }
      ]
    },
    {
      "cell_type": "code",
      "source": [
        "training_sequences = tokenizer.texts_to_sequences(training_sentences)\n",
        "\n",
        "training_sequences[0:2]"
      ],
      "metadata": {
        "colab": {
          "base_uri": "https://localhost:8080/"
        },
        "id": "A8gyTsM2sGwY",
        "outputId": "236660cc-7c32-4dd1-d1e4-e5605cf07793"
      },
      "execution_count": 29,
      "outputs": [
        {
          "output_type": "execute_result",
          "data": {
            "text/plain": [
              "[[2, 139, 3, 679],\n",
              " [2,\n",
              "  40,\n",
              "  101,\n",
              "  60,\n",
              "  8,\n",
              "  15,\n",
              "  494,\n",
              "  5,\n",
              "  15,\n",
              "  3496,\n",
              "  553,\n",
              "  32,\n",
              "  60,\n",
              "  61,\n",
              "  128,\n",
              "  148,\n",
              "  76,\n",
              "  1480,\n",
              "  4,\n",
              "  22,\n",
              "  1255]]"
            ]
          },
          "metadata": {},
          "execution_count": 29
        }
      ]
    },
    {
      "cell_type": "markdown",
      "source": [
        "**Padding** It is important to make all the sentences contain the same number of words. Zero is used for padding the tokenized sequence to make text contain the same number of tokens. "
      ],
      "metadata": {
        "id": "iRP-oFQx5ghI"
      }
    },
    {
      "cell_type": "code",
      "source": [
        "#Define parameters for pad_sequences\n",
        "\n",
        "from tensorflow.keras.preprocessing.sequence import pad_sequences\n",
        "\n",
        "padding_type='post'\n",
        "max_length = 100\n",
        "trunc_type='post'\n",
        "\n",
        "\n",
        "training_padded = pad_sequences(training_sequences, maxlen=max_length, \n",
        "                                padding=padding_type, truncating=trunc_type)\n",
        "\n",
        "training_padded"
      ],
      "metadata": {
        "colab": {
          "base_uri": "https://localhost:8080/"
        },
        "id": "uHp-2-ek13xJ",
        "outputId": "13c619b4-705c-49fa-9918-370085cfe733"
      },
      "execution_count": 30,
      "outputs": [
        {
          "output_type": "execute_result",
          "data": {
            "text/plain": [
              "array([[   2,  139,    3, ...,    0,    0,    0],\n",
              "       [   2,   40,  101, ...,    0,    0,    0],\n",
              "       [  17, 3060,    7, ...,    0,    0,    0],\n",
              "       ...,\n",
              "       [   2,    3,  327, ...,    0,    0,    0],\n",
              "       [   2,    3,   14, ...,    0,    0,    0],\n",
              "       [   2,   47,    7, ...,    0,    0,    0]], dtype=int32)"
            ]
          },
          "metadata": {},
          "execution_count": 30
        }
      ]
    },
    {
      "cell_type": "markdown",
      "source": [
        "## Converting padded sequences and labels into an Numpy array\n"
      ],
      "metadata": {
        "id": "T5ldAp2Yw7it"
      }
    },
    {
      "cell_type": "code",
      "source": [
        "#Create numpy arrays for padded sequences and labels\n",
        "import numpy as np\n",
        "training_padded=np.array(training_padded)\n",
        "training_labels=np.array(training_labels)\n"
      ],
      "metadata": {
        "id": "JTGdyZ0Q4FH3"
      },
      "execution_count": 31,
      "outputs": []
    },
    {
      "cell_type": "markdown",
      "source": [
        "## Model Compilation"
      ],
      "metadata": {
        "id": "PzaNOBnM7KVM"
      }
    },
    {
      "cell_type": "code",
      "source": [
        "#Define different layers and Compile model\n",
        "from tensorflow.keras.models import Sequential\n",
        "from tensorflow.keras.layers import Embedding,LSTM,Dense\n",
        "from tensorflow.keras.layers import Conv1D,Dropout,MaxPooling1D\n",
        "model=tf.keras.Sequential([\n",
        "       Embedding(vocab_size,embedding_dim,input_length=max_length),\n",
        "       Dropout(0.2),\n",
        "       Conv1D(filters=256,kernel_size=3,activation=\"relu\"),\n",
        "       MaxPooling1D(pool_size=3),\n",
        "       Conv1D(filters=128,kernel_size=3,activation=\"relu\"),\n",
        "       MaxPooling1D(pool_size=3),\n",
        "       LSTM(128),\n",
        "       Dense(128,activation=\"relu\"),\n",
        "       Dropout(0.2),\n",
        "       Dense(64,activation=\"relu\"),\n",
        "       Dense(6,activation=\"softmax\")\n",
        "])"
      ],
      "metadata": {
        "id": "71-AEypu7NW7"
      },
      "execution_count": 33,
      "outputs": []
    },
    {
      "cell_type": "markdown",
      "source": [
        "## Model Summary"
      ],
      "metadata": {
        "id": "dtLbpZiZ7UnA"
      }
    },
    {
      "cell_type": "code",
      "source": [
        "#use the summary() method \n",
        "model.compile(loss='sparse_categorical_crossentropy',optimizer='adam',metrics=['accuracy'])"
      ],
      "metadata": {
        "id": "kI2I0jU27YQn"
      },
      "execution_count": 34,
      "outputs": []
    },
    {
      "cell_type": "markdown",
      "source": [
        "## Train Model"
      ],
      "metadata": {
        "id": "-Z2qKvlC7fgX"
      }
    },
    {
      "cell_type": "code",
      "source": [
        "from tensorflow.python import training\n",
        "#use the fit() function for training model\n",
        "num_epochs=30\n",
        "history=model.fit(training_padded,training_labels,epochs=num_epochs,verbose=2)"
      ],
      "metadata": {
        "id": "t2yWfIR57kJQ",
        "colab": {
          "base_uri": "https://localhost:8080/"
        },
        "outputId": "46d22c79-4ff2-4bb0-937b-f873e0a184cf"
      },
      "execution_count": null,
      "outputs": [
        {
          "output_type": "stream",
          "name": "stdout",
          "text": [
            "Epoch 1/30\n",
            "500/500 - 15s - loss: 1.4250 - accuracy: 0.3919 - 15s/epoch - 31ms/step\n",
            "Epoch 2/30\n",
            "500/500 - 15s - loss: 0.8029 - accuracy: 0.6887 - 15s/epoch - 29ms/step\n",
            "Epoch 3/30\n",
            "500/500 - 15s - loss: 0.5272 - accuracy: 0.8216 - 15s/epoch - 29ms/step\n",
            "Epoch 4/30\n",
            "500/500 - 14s - loss: 0.4141 - accuracy: 0.8622 - 14s/epoch - 28ms/step\n",
            "Epoch 5/30\n",
            "500/500 - 14s - loss: 0.3387 - accuracy: 0.8881 - 14s/epoch - 28ms/step\n",
            "Epoch 6/30\n",
            "500/500 - 14s - loss: 0.2932 - accuracy: 0.9022 - 14s/epoch - 28ms/step\n",
            "Epoch 7/30\n",
            "500/500 - 14s - loss: 0.2508 - accuracy: 0.9144 - 14s/epoch - 27ms/step\n",
            "Epoch 8/30\n",
            "500/500 - 14s - loss: 0.2176 - accuracy: 0.9273 - 14s/epoch - 27ms/step\n",
            "Epoch 9/30\n",
            "500/500 - 14s - loss: 0.1909 - accuracy: 0.9359 - 14s/epoch - 27ms/step\n",
            "Epoch 10/30\n",
            "500/500 - 14s - loss: 0.1711 - accuracy: 0.9413 - 14s/epoch - 27ms/step\n",
            "Epoch 11/30\n",
            "500/500 - 14s - loss: 0.1533 - accuracy: 0.9464 - 14s/epoch - 29ms/step\n",
            "Epoch 12/30\n",
            "500/500 - 14s - loss: 0.1409 - accuracy: 0.9515 - 14s/epoch - 27ms/step\n",
            "Epoch 13/30\n",
            "500/500 - 14s - loss: 0.1271 - accuracy: 0.9565 - 14s/epoch - 27ms/step\n",
            "Epoch 14/30\n"
          ]
        }
      ]
    },
    {
      "cell_type": "markdown",
      "source": [
        "## Save Model"
      ],
      "metadata": {
        "id": "_l7jxBic7r4E"
      }
    },
    {
      "cell_type": "code",
      "source": [
        "#use the save() method\n",
        "model.save(\"text_emotion.h5\")"
      ],
      "metadata": {
        "id": "aoAnRxnt73aI"
      },
      "execution_count": null,
      "outputs": []
    },
    {
      "cell_type": "markdown",
      "source": [
        "## Test the model"
      ],
      "metadata": {
        "id": "uPZ17wKI7zuE"
      }
    },
    {
      "cell_type": "code",
      "source": [
        "#use the predict() method for model prediction"
      ],
      "metadata": {
        "id": "avprx56v8A_k"
      },
      "execution_count": null,
      "outputs": []
    }
  ]
}